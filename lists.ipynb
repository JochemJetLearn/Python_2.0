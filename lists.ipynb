{
 "cells": [
  {
   "cell_type": "code",
   "execution_count": null,
   "id": "c798f297",
   "metadata": {},
   "outputs": [],
   "source": [
    "x1 = \"Jochem\"\n",
    "x2 = 23.36\n",
    "print(x1, type(x1), type(x2))"
   ]
  },
  {
   "cell_type": "code",
   "execution_count": null,
   "id": "2aa188bf",
   "metadata": {},
   "outputs": [],
   "source": [
    "x3 = 12.00\n",
    "x4 = \"12\"\n",
    "print(type(x3), type(x4))"
   ]
  },
  {
   "cell_type": "code",
   "execution_count": null,
   "id": "90ef967c",
   "metadata": {},
   "outputs": [],
   "source": [
    "x5 = 13 > 17\n",
    "type(x5)\n",
    "print(x5)"
   ]
  },
  {
   "cell_type": "code",
   "execution_count": null,
   "id": "69e8d622",
   "metadata": {},
   "outputs": [],
   "source": [
    "# Lists are another important data structures in Python. Lists are represented using square brackets\n",
    "# Lists can contain different kinds of data in them including integers, floats, strings, boolean, lists etc.\n",
    "# Lists within a defined list are known as Nested lists\n",
    "# Lists have the property of indexing and slicing.\n",
    "# Indexes tell us the actual position of the items. Indexes are of two types : positive and negative\n",
    "# Positive index go in the direction of left to right starting from 0, 1, 2, 3...\n",
    "# Negative index go in the direction from right to left. starting with -1, -2, -3, ...\n",
    "# Slicing is done in order to extract a portion of the list. For slicing we always have to define starting and ending index\n",
    "# Slicing starts from the starting index and will go upto 1 less than destination index"
   ]
  },
  {
   "cell_type": "code",
   "execution_count": null,
   "id": "6c2efec7",
   "metadata": {},
   "outputs": [],
   "source": [
    "y1 = [489, 74.13, \"Hello Everyone!\", True, [\"Test Value\", \"Jochem's laptop\", [False, \"Another Value, 234\"], True]]\n",
    "\n",
    "\n",
    "# Counting items in a list\n",
    "print(len(y1))\n",
    "print(\"\\n\", y1)\n",
    "\n",
    "# Slicing\n",
    "print(y1[ 2 : 4])\n",
    "print(y1[4][2][1 : 5])\n",
    "print(y1[3 : ])\n",
    "print(y1[ : 4])\n",
    "print(y1[-4 : -1])"
   ]
  },
  {
   "cell_type": "code",
   "execution_count": null,
   "id": "e6a1293c",
   "metadata": {},
   "outputs": [],
   "source": [
    "import math\n",
    "\n",
    "num = [13, 96, 28, 7, 64, 89, 22, 78, 62, 44]\n",
    "\n",
    "# Create an odd square and even square to separately store the squares of odd and even numbers\n",
    "odd = []\n",
    "even = []\n",
    "\n",
    "for i in num:\n",
    "    if i % 2 == 0:\n",
    "        even.append(math.lcm(i))\n",
    "    else:\n",
    "        odd.append(math.lcm(i))\n",
    "\n",
    "print(odd,\"\\n\",even)"
   ]
  },
  {
   "cell_type": "code",
   "execution_count": null,
   "id": "df29c333",
   "metadata": {},
   "outputs": [],
   "source": [
    "import random\n",
    "\n",
    "def lcm(num1,num2):\n",
    "    count = 0\n",
    "    while True:\n",
    "        count += 1\n",
    "        \n",
    "\n",
    "num1 = random.randint(1,200)\n",
    "num2 = random.randint(1,200)\n",
    "print(num1,num2)\n",
    "print(lcm(num1,num2))"
   ]
  },
  {
   "cell_type": "code",
   "execution_count": null,
   "id": "3b3fc523",
   "metadata": {},
   "outputs": [],
   "source": [
    "x = random.randint(1,50)\n",
    "y = random.randint(1,50)\n",
    "print(x,y)\n",
    "\n",
    "if x >= y:\n",
    "    greater = x\n",
    "else:\n",
    "    greater = y\n",
    "\n",
    "while True:\n",
    "    if ((greater % x == 0) and (greater % y == 0)):\n",
    "        lcm = greater\n",
    "        break\n",
    "    greater += 1\n",
    "\n",
    "print(\"The Lcm of\", x, \"and\", y, \"is = \", greater)"
   ]
  },
  {
   "cell_type": "code",
   "execution_count": null,
   "id": "2f58cc1c",
   "metadata": {},
   "outputs": [],
   "source": [
    "import random\n",
    "# Write a python program to shuffle a deck of cards and pick 5 cards at random\n",
    "# deck = ['king of hearts', 'king of spades', 'king of diamonds', 'king of clubs', 'queen of hearts', 'queen of spades', 'queen of diamonds', 'queen of clubs', 'jack of hearts', 'jack of spades', 'jack of diamonds', 'jack of clubs', 'ace of hearts', 'ace of spades', 'ace of diamonds', 'ace of clubs', '2 of hearts', '2 of spades', '2 of diamonds', '2 of clubs', '3 of hearts', '3 of spades', '3 of diamonds', '3 of clubs', '4 of hearts', '4 of spades', '4 of diamonds', '4 of clubs', '5 of hearts', '5 of spades', '5 of diamonds', '5 of clubs', '6 of hearts', '6 of spades', '6 of diamonds', '6 of clubs', '7 of hearts', '7 of spades', '7 of diamonds', '7 of clubs', '8 of hearts', '8 of spades', '8 of diamonds', '8 of clubs', '9 of hearts', '9 of spades', '9 of diamonds', '9 of clubs', '10 of hearts', '10 of spades', '10 of diamonds', '10 of clubs']\n",
    "deck = []\n",
    "types = [\"hearts\", \"spades\", \"diamonds\", \"clubs\"]\n",
    "num = [\"king\", \"queen\", \"jack\", \"ace\"]\n",
    "for i in range(10):\n",
    "    num.append(str(i))\n",
    "for i  in types:\n",
    "    for j in num:\n",
    "        deck.append(j + \" of \" + i)\n",
    "random.shuffle(deck)\n",
    "print(deck[0:5])"
   ]
  },
  {
   "cell_type": "code",
   "execution_count": 23,
   "id": "576f2595",
   "metadata": {},
   "outputs": [
    {
     "name": "stdout",
     "output_type": "stream",
     "text": [
      "Your cards are : \n",
      "11 of Hearts\n",
      "5 of Clubs\n",
      "3 of Diamonds\n",
      "5 of Hearts\n",
      "13 of Spades\n"
     ]
    }
   ],
   "source": [
    "import itertools, random\n",
    "\n",
    "# making a deck of cards\n",
    "deck = list(itertools.product(range(1, 14), [\"Spades\", \"Clubs\", \"Hearts\", \"Diamonds\"]))\n",
    "\n",
    "# suffle the deck\n",
    "\n",
    "random.shuffle(deck)\n",
    "\n",
    "# Drawing 5 random cards\n",
    "#print(\"Your 5 cards at random are : \\n\", deck[0:4])\n",
    "\n",
    "print(\"Your cards are : \")\n",
    "for i in range(5):\n",
    "    print(deck[i][0], \"of\", deck[i][1])"
   ]
  },
  {
   "cell_type": "code",
   "execution_count": null,
   "id": "c7f488ee",
   "metadata": {},
   "outputs": [
    {
     "name": "stdout",
     "output_type": "stream",
     "text": [
      "A round red or green fruit\n",
      "A curved yellow fruit\n"
     ]
    }
   ],
   "source": [
    "meaning = {\n",
    "    \"apple\": \"A round red or green fruit\",\n",
    "    \"banana\": \"A curved yellow fruit\"\n",
    "}"
   ]
  }
 ],
 "metadata": {
  "kernelspec": {
   "display_name": "Python 3",
   "language": "python",
   "name": "python3"
  },
  "language_info": {
   "codemirror_mode": {
    "name": "ipython",
    "version": 3
   },
   "file_extension": ".py",
   "mimetype": "text/x-python",
   "name": "python",
   "nbconvert_exporter": "python",
   "pygments_lexer": "ipython3",
   "version": "3.13.1"
  }
 },
 "nbformat": 4,
 "nbformat_minor": 5
}
