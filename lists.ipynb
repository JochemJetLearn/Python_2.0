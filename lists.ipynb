{
 "cells": [
  {
   "cell_type": "code",
   "execution_count": null,
   "id": "c798f297",
   "metadata": {},
   "outputs": [
    {
     "name": "stdout",
     "output_type": "stream",
     "text": [
      "Jochem <class 'str'>\n"
     ]
    }
   ],
   "source": [
    "x1 = \"Jochem\"\n",
    "x2 = 23.36\n",
    "print(x1, type(x1), type(x2))"
   ]
  },
  {
   "cell_type": "code",
   "execution_count": 3,
   "id": "2aa188bf",
   "metadata": {},
   "outputs": [
    {
     "name": "stdout",
     "output_type": "stream",
     "text": [
      "<class 'float'> <class 'str'>\n"
     ]
    }
   ],
   "source": [
    "x3 = 12.00\n",
    "x4 = \"12\"\n",
    "print(type(x3), type(x4))"
   ]
  },
  {
   "cell_type": "code",
   "execution_count": 5,
   "id": "90ef967c",
   "metadata": {},
   "outputs": [
    {
     "name": "stdout",
     "output_type": "stream",
     "text": [
      "False\n"
     ]
    }
   ],
   "source": [
    "x5 = 13 > 17\n",
    "type(x5)\n",
    "print(x5)"
   ]
  },
  {
   "cell_type": "code",
   "execution_count": null,
   "id": "69e8d622",
   "metadata": {},
   "outputs": [],
   "source": [
    "# Lists are another important data structures in Python. Lists are represented using square brackets\n",
    "# Lists can contain different kinds of data in them including integers, floats, strings, boolean, lists etc.\n",
    "# Lists within a defined list are known as Nested lists\n",
    "# Lists have the property of indexing and slicing.\n",
    "# Indexes tell us the actual position of the items. Indexes are of two types : positive and negative\n",
    "# Positive index go in the direction of left to right starting from 0, 1, 2, 3...\n",
    "# Negative index go in the direction from right to left. starting with -1, -2, -3, ...\n",
    "# Slicing is done in order to extract a portion of the list. For slicing we always have to define starting and ending index\n",
    "# Slicing starts from the starting index and will go upto 1 less than destination index"
   ]
  },
  {
   "cell_type": "code",
   "execution_count": null,
   "id": "6c2efec7",
   "metadata": {},
   "outputs": [
    {
     "name": "stdout",
     "output_type": "stream",
     "text": [
      "5\n",
      "\n",
      " [489, 74.13, 'Hello Everyone!', True, ['Test Value', \"Jochem's laptop\", [False, 'Another Value, 234'], True]]\n",
      "['Hello Everyone!', True]\n",
      "['Another Value, 234']\n",
      "[True, ['Test Value', \"Jochem's laptop\", [False, 'Another Value, 234'], True]]\n",
      "[489, 74.13, 'Hello Everyone!', True]\n"
     ]
    }
   ],
   "source": [
    "y1 = [489, 74.13, \"Hello Everyone!\", True, [\"Test Value\", \"Jochem's laptop\", [False, \"Another Value, 234\"], True]]\n",
    "\n",
    "\n",
    "# Counting items in a list\n",
    "print(len(y1))\n",
    "print(\"\\n\", y1)\n",
    "\n",
    "# Slicing\n",
    "print(y1[ 2 : 4])\n",
    "print(y1[4][2][1 : 5])\n",
    "print(y1[3 : ])\n",
    "print(y1[ : 4])\n",
    "print(y1[-4 : -1])"
   ]
  },
  {
   "cell_type": "code",
   "execution_count": null,
   "id": "e6a1293c",
   "metadata": {},
   "outputs": [],
   "source": []
  }
 ],
 "metadata": {
  "kernelspec": {
   "display_name": "Python 3",
   "language": "python",
   "name": "python3"
  },
  "language_info": {
   "codemirror_mode": {
    "name": "ipython",
    "version": 3
   },
   "file_extension": ".py",
   "mimetype": "text/x-python",
   "name": "python",
   "nbconvert_exporter": "python",
   "pygments_lexer": "ipython3",
   "version": "3.13.1"
  }
 },
 "nbformat": 4,
 "nbformat_minor": 5
}
