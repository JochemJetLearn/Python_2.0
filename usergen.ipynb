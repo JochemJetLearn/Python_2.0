{
 "cells": [
  {
   "cell_type": "code",
   "execution_count": 3,
   "id": "deba7fab",
   "metadata": {},
   "outputs": [
    {
     "name": "stdout",
     "output_type": "stream",
     "text": [
      "your username is\n",
      "xXxX69xX6969420xX69420420xXmyfridgecantrundoom69XxXx69XxXxXx\n"
     ]
    }
   ],
   "source": [
    "import random\n",
    "\n",
    "before = [\"xX\", \"\", \"\", \"69\", \"420\"]\n",
    "after = [\"Xx\", \"69\", \"420\", \"\", \"\"]\n",
    "\n",
    "user = input(\"enter username: \")\n",
    "\n",
    "while True:\n",
    "    unused = random.random() < 0.15\n",
    "    if unused:\n",
    "        break\n",
    "    diff = random.randint(0,4)\n",
    "    user = before[diff] + user + after[diff]\n",
    "\n",
    "print(\"your username is\\n\" + user)\n"
   ]
  }
 ],
 "metadata": {
  "kernelspec": {
   "display_name": "Python 3",
   "language": "python",
   "name": "python3"
  },
  "language_info": {
   "codemirror_mode": {
    "name": "ipython",
    "version": 3
   },
   "file_extension": ".py",
   "mimetype": "text/x-python",
   "name": "python",
   "nbconvert_exporter": "python",
   "pygments_lexer": "ipython3",
   "version": "3.13.1"
  }
 },
 "nbformat": 4,
 "nbformat_minor": 5
}
