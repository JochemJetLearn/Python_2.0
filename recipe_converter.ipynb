{
 "cells": [
  {
   "cell_type": "code",
   "execution_count": 7,
   "id": "ddb2bbb2",
   "metadata": {},
   "outputs": [],
   "source": [
    "# convert cups to grams\n",
    "\n",
    "def cup_gram(cups, conversion):\n",
    "    return cups * conversion"
   ]
  },
  {
   "cell_type": "code",
   "execution_count": 6,
   "id": "4d1d3055",
   "metadata": {},
   "outputs": [],
   "source": [
    "# convert tablespoons to teaspoons\n",
    "\n",
    "def tbsp_tsp(tbsp):\n",
    "    return tbsp * 3 # 1 tablespoon = 3 teaspoon"
   ]
  },
  {
   "cell_type": "code",
   "execution_count": 5,
   "id": "40493351",
   "metadata": {},
   "outputs": [],
   "source": [
    "# convert grams to cups\n",
    "\n",
    "def gram_cup(grams, conversion):\n",
    "    return grams / conversion"
   ]
  },
  {
   "cell_type": "code",
   "execution_count": null,
   "id": "33282df5",
   "metadata": {},
   "outputs": [
    {
     "name": "stdout",
     "output_type": "stream",
     "text": [
      "\n",
      "Welcome to the Recipe Converter!\n",
      "\n",
      "Choose an option:\n",
      "1. Convert cups to grams\n",
      "2. Convert tablespoons to teaspoons\n",
      "3. Convert grams to cups\n",
      "4. Exit\n",
      "Result: 80.00 grams\n",
      "\n",
      "Choose an option:\n",
      "1. Convert cups to grams\n",
      "2. Convert tablespoons to teaspoons\n",
      "3. Convert grams to cups\n",
      "4. Exit\n",
      "Result: 975.00 teaspoons\n",
      "\n",
      "Choose an option:\n",
      "1. Convert cups to grams\n",
      "2. Convert tablespoons to teaspoons\n",
      "3. Convert grams to cups\n",
      "4. Exit\n",
      "Result: 1.00 cups\n",
      "\n",
      "Choose an option:\n",
      "1. Convert cups to grams\n",
      "2. Convert tablespoons to teaspoons\n",
      "3. Convert grams to cups\n",
      "4. Exit\n"
     ]
    }
   ],
   "source": [
    "def recipe_converter():\n",
    "    #     cups = float(input(\"Enter number of cups: \"))\n",
    "    \n",
    "    print(\"\\nWelcome to the Recipe Converter!\")\n",
    "    \n",
    "    while True:\n",
    "        print(\"\\nChoose an option:\")\n",
    "        print(\"1. Convert cups to grams\")\n",
    "        print(\"2. Convert tablespoons to teaspoons\")\n",
    "        print(\"3. Convert grams to cups\")\n",
    "        print(\"4. Exit\")\n",
    "        \n",
    "        choice = int(input(\"Enter your choice (1-4): \"))\n",
    "        if choice == 1:\n",
    "            cups = float(input(\"Enter the number of cups: \"))\n",
    "            conversion = float(input(\"Enter the grams per cup for the ingredient: \"))\n",
    "            result = cup_gram(cups, conversion)\n",
    "            print(\"Result: {:.2f} grams\".format(result))\n",
    "        elif choice == 2:\n",
    "            tbsp = int(input(\"How many tablespoons? \"))\n",
    "            result = tbsp_tsp(tbsp)\n",
    "            print(\"Result: {:.2f} teaspoons\".format(result))\n",
    "        elif choice == 3:\n",
    "            grams = float(input(\"Enter the number of grams: \"))\n",
    "            conversion = float(input(\"Enter the grams per cup for the ingredient: \"))\n",
    "            result = gram_cup(grams, conversion)\n",
    "            print(\"Result: {:.2f} cups\".format(result))\n",
    "        elif choice == 4:\n",
    "            break\n",
    "        else:\n",
    "            print(\"invald\")\n",
    "\n",
    "recipe_converter()"
   ]
  },
  {
   "cell_type": "code",
   "execution_count": 5,
   "id": "d4ebfb37",
   "metadata": {},
   "outputs": [
    {
     "name": "stdout",
     "output_type": "stream",
     "text": [
      "Palindrome!\n",
      "rar\n",
      "rar\n"
     ]
    }
   ],
   "source": [
    "# Write a python program to check if a given number is palindrome or not\n",
    "\n",
    "num = input(\"Enter a number: \").lower()\n",
    "\n",
    "if num == num[::-1]:\n",
    "    print(\"Palindrome!\")\n",
    "else:\n",
    "    print(\"No palindrome!\")\n",
    "\n",
    "print(\"{}\\n{}\".format(num, num[::-1]))"
   ]
  }
 ],
 "metadata": {
  "kernelspec": {
   "display_name": "Python 3",
   "language": "python",
   "name": "python3"
  },
  "language_info": {
   "codemirror_mode": {
    "name": "ipython",
    "version": 3
   },
   "file_extension": ".py",
   "mimetype": "text/x-python",
   "name": "python",
   "nbconvert_exporter": "python",
   "pygments_lexer": "ipython3",
   "version": "3.13.1"
  }
 },
 "nbformat": 4,
 "nbformat_minor": 5
}
